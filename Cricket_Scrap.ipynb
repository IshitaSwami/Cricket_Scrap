{
 "cells": [
  {
   "cell_type": "code",
   "execution_count": 1,
   "metadata": {},
   "outputs": [],
   "source": [
    "import requests\n",
    "import os\n",
    "from bs4 import BeautifulSoup"
   ]
  },
  {
   "cell_type": "code",
   "execution_count": 2,
   "metadata": {},
   "outputs": [],
   "source": [
    "url1 = [\"https://www.espncricinfo.com/series/indian-premier-league-2022-1298423/kolkata-knight-riders-vs-punjab-kings-8th-match-1304054/full-scorecard\"]"
   ]
  },
  {
   "cell_type": "code",
   "execution_count": 15,
   "metadata": {},
   "outputs": [],
   "source": [
    "def toss(url):\n",
    "    webpage = requests.get(url)\n",
    "    response = webpage.content\n",
    "    soup = BeautifulSoup(response,\"html.parser\")\n",
    "    for value in soup.find_all(\"span\"):\n",
    "            n = value.text\n",
    "            if \"elected\" in n:\n",
    "                print(n)\n",
    "    "
   ]
  },
  {
   "cell_type": "code",
   "execution_count": 17,
   "metadata": {},
   "outputs": [
    {
     "name": "stdout",
     "output_type": "stream",
     "text": [
      "Kolkata Knight Riders, elected to field first\n"
     ]
    }
   ],
   "source": [
    "toss = [toss(url) for url in url1]"
   ]
  },
  {
   "cell_type": "code",
   "execution_count": 36,
   "metadata": {},
   "outputs": [],
   "source": [
    "def winner(url):\n",
    "    webpage = requests.get(url)\n",
    "    response = webpage.content\n",
    "    soup = BeautifulSoup(response,\"html.parser\")\n",
    "    #value = soup.find_all(\"p\",{\"class\":\"ds-text-tight-m\"})\n",
    "    for value in soup.find_all(\"p\",{\"class\":\"ds-text-tight-m\"}):\n",
    "        for span in value.find_all(\"span\"):\n",
    "            m = span.text\n",
    "            print(m)\n",
    "            \n",
    "    "
   ]
  },
  {
   "cell_type": "code",
   "execution_count": 37,
   "metadata": {},
   "outputs": [
    {
     "name": "stdout",
     "output_type": "stream",
     "text": [
      "KKR won by 6 wickets (with 33 balls remaining)\n"
     ]
    }
   ],
   "source": [
    "winner = [winner(url) for url in url1]"
   ]
  },
  {
   "cell_type": "code",
   "execution_count": 42,
   "metadata": {},
   "outputs": [],
   "source": [
    "def score(url):\n",
    "    webpage = requests.get(url)\n",
    "    response = webpage.content\n",
    "    soup = BeautifulSoup(response,\"html.parser\")\n",
    "    #value = soup.find_all(\"div\",{\"class\":\"ds-text-compact-m\"})\n",
    "    for value in soup.find_all(\"div\",{\"class\":\"ds-text-compact-m\"}):\n",
    "        for strong in value.find_all(\"strong\"):\n",
    "            s = strong.text\n",
    "            print(s)"
   ]
  },
  {
   "cell_type": "code",
   "execution_count": 43,
   "metadata": {},
   "outputs": [
    {
     "name": "stdout",
     "output_type": "stream",
     "text": [
      "137\n",
      "141/4\n"
     ]
    }
   ],
   "source": [
    "score = [score(url) for url in url1]"
   ]
  },
  {
   "cell_type": "code",
   "execution_count": 46,
   "metadata": {},
   "outputs": [],
   "source": [
    "def teamname(url):\n",
    "    webpage = requests.get(url)\n",
    "    response = webpage.content\n",
    "    soup = BeautifulSoup(response,\"html.parser\")\n",
    "    for value in soup.find_all(\"span\",{\"class\":\"ds-text-tight-l\"}):\n",
    "        print(value.text)"
   ]
  },
  {
   "cell_type": "code",
   "execution_count": 47,
   "metadata": {},
   "outputs": [
    {
     "name": "stdout",
     "output_type": "stream",
     "text": [
      "Punjab Kings\n",
      "Kolkata Knight Riders\n",
      "Unlocking the magic of Statsguru\n"
     ]
    }
   ],
   "source": [
    "teamname = [teamname(url) for url in url1]"
   ]
  },
  {
   "cell_type": "code",
   "execution_count": null,
   "metadata": {},
   "outputs": [],
   "source": []
  }
 ],
 "metadata": {
  "kernelspec": {
   "display_name": "Python 3",
   "language": "python",
   "name": "python3"
  },
  "language_info": {
   "codemirror_mode": {
    "name": "ipython",
    "version": 3
   },
   "file_extension": ".py",
   "mimetype": "text/x-python",
   "name": "python",
   "nbconvert_exporter": "python",
   "pygments_lexer": "ipython3",
   "version": "3.8.3"
  }
 },
 "nbformat": 4,
 "nbformat_minor": 4
}
